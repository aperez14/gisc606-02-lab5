{
 "cells": [
  {
   "cell_type": "code",
   "execution_count": 1,
   "metadata": {},
   "outputs": [],
   "source": [
    "# Import necessary packages\n",
    "import os\n",
    "from glob import glob \n",
    "import matplotlib.pyplot as plt \n",
    "import geopandas as gpd \n",
    "import rioxarray as rxr \n",
    "import xarray as xr \n",
    "from shapely.geometry import mapping \n",
    "import numpy as np \n",
    "import numpy.ma as ma \n",
    "import earthpy as et \n",
    "import earthpy.spatial as es \n",
    "import earthpy.plot as ep\n",
    "\n",
    "os.chdir(os.path.join(et.io.HOME, \"earth-analytics\"))"
   ]
  }
 ],
 "metadata": {
  "kernelspec": {
   "display_name": "Python 3.10.4 64-bit",
   "language": "python",
   "name": "python3"
  },
  "language_info": {
   "codemirror_mode": {
    "name": "ipython",
    "version": 3
   },
   "file_extension": ".py",
   "mimetype": "text/x-python",
   "name": "python",
   "nbconvert_exporter": "python",
   "pygments_lexer": "ipython3",
   "version": "3.10.13"
  },
  "orig_nbformat": 4,
  "vscode": {
   "interpreter": {
    "hash": "3ad933181bd8a04b432d3370b9dc3b0662ad032c4dfaa4e4f1596c548f763858"
   }
  }
 },
 "nbformat": 4,
 "nbformat_minor": 2
}
